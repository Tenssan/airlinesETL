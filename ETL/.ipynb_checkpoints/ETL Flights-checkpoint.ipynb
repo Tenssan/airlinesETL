{
 "cells": [
  {
   "cell_type": "code",
   "execution_count": 9,
   "id": "d4ba8e2b",
   "metadata": {},
   "outputs": [],
   "source": [
    "import pandas as pd\n",
    "from translate import Translator\n",
    "import time"
   ]
  },
  {
   "cell_type": "markdown",
   "id": "efe73d0b",
   "metadata": {},
   "source": [
    "### Lectura de archivo"
   ]
  },
  {
   "cell_type": "code",
   "execution_count": 10,
   "id": "bee31d70",
   "metadata": {},
   "outputs": [
    {
     "name": "stdout",
     "output_type": "stream",
     "text": [
      "15.391259908676147\n"
     ]
    }
   ],
   "source": [
    "df = pd.read_csv(\"flights.csv\", sep=\"#\", low_memory=False)"
   ]
  },
  {
   "cell_type": "markdown",
   "id": "957ec940",
   "metadata": {},
   "source": [
    "### Traducción con libreria"
   ]
  },
  {
   "cell_type": "code",
   "execution_count": 11,
   "id": "bb5f9b00",
   "metadata": {},
   "outputs": [],
   "source": [
    "translator = Translator(to_lang=\"es\")\n",
    "df.columns = df.columns.str.replace('_', ' ')"
   ]
  },
  {
   "cell_type": "code",
   "execution_count": 12,
   "id": "4de0934c",
   "metadata": {},
   "outputs": [],
   "source": [
    "def traducir_texto(texto):\n",
    "    traduccion = translator.translate(texto)\n",
    "    return traduccion"
   ]
  },
  {
   "cell_type": "markdown",
   "id": "8092fd87",
   "metadata": {},
   "source": [
    "#### Aplicación de librerias para traducir y capitalización de los cabezales"
   ]
  },
  {
   "cell_type": "code",
   "execution_count": 13,
   "id": "f41cb90a",
   "metadata": {
    "scrolled": false
   },
   "outputs": [],
   "source": [
    "df.columns = df.columns.map(traducir_texto)\n",
    "df.columns = [header.title() for header in df.columns]\n",
    "df = df.rename(columns={'Es Departure Delay': 'Retraso de partida','Llegada Programada {0}':'Llegada programada'})\n",
    "df"
   ]
  },
  {
   "cell_type": "markdown",
   "id": "e5d3dbdd",
   "metadata": {},
   "source": [
    "### Eliminación de columnas irrelevantes para el análisis"
   ]
  },
  {
   "cell_type": "code",
   "execution_count": 14,
   "id": "60afad14",
   "metadata": {
    "scrolled": true
   },
   "outputs": [],
   "source": [
    "pd.set_option(\"display.max_columns\",None)\n",
    "df= df.drop(columns=['Día De La Semana', 'Taxi Fuera','Taxi En','Ruedas Encendidas','Salida Programada'])"
   ]
  },
  {
   "cell_type": "code",
   "execution_count": 15,
   "id": "b8f6be4f",
   "metadata": {},
   "outputs": [
    {
     "name": "stdout",
     "output_type": "stream",
     "text": [
      "84.49865579605103\n"
     ]
    }
   ],
   "source": [
    "df.to_csv('flightsETL.csv', index=False)"
   ]
  },
  {
   "cell_type": "code",
   "execution_count": null,
   "id": "7f73f35d",
   "metadata": {},
   "outputs": [],
   "source": []
  }
 ],
 "metadata": {
  "kernelspec": {
   "display_name": "Python 3 (ipykernel)",
   "language": "python",
   "name": "python3"
  },
  "language_info": {
   "codemirror_mode": {
    "name": "ipython",
    "version": 3
   },
   "file_extension": ".py",
   "mimetype": "text/x-python",
   "name": "python",
   "nbconvert_exporter": "python",
   "pygments_lexer": "ipython3",
   "version": "3.9.13"
  }
 },
 "nbformat": 4,
 "nbformat_minor": 5
}
