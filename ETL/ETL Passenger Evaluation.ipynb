{
 "cells": [
  {
   "cell_type": "code",
   "execution_count": 1,
   "id": "4e4fcdd5",
   "metadata": {},
   "outputs": [],
   "source": [
    "import pandas as pd\n",
    "from translate import Translator\n",
    "import time"
   ]
  },
  {
   "cell_type": "markdown",
   "id": "da63bf51",
   "metadata": {},
   "source": [
    "### Lectura de archivo"
   ]
  },
  {
   "cell_type": "code",
   "execution_count": 13,
   "id": "12844564",
   "metadata": {},
   "outputs": [],
   "source": [
    "df = pd.read_csv(\"passengerEvaluation.csv\", sep=\"#\")"
   ]
  },
  {
   "cell_type": "code",
   "execution_count": 3,
   "id": "7a1a2fb0",
   "metadata": {},
   "outputs": [],
   "source": [
    "translator = Translator(to_lang=\"es\")"
   ]
  },
  {
   "cell_type": "markdown",
   "id": "6e05967c",
   "metadata": {},
   "source": [
    "### Función para aplicar la libreria de traducción"
   ]
  },
  {
   "cell_type": "code",
   "execution_count": 4,
   "id": "60a7b895",
   "metadata": {},
   "outputs": [],
   "source": [
    "def traducir_texto(texto):\n",
    "    traduccion = translator.translate(texto)\n",
    "    return traduccion"
   ]
  },
  {
   "cell_type": "code",
   "execution_count": 5,
   "id": "22838448",
   "metadata": {},
   "outputs": [],
   "source": [
    "df.columns = df.columns.map(traducir_texto)\n"
   ]
  },
  {
   "cell_type": "markdown",
   "id": "78553d14",
   "metadata": {},
   "source": [
    "### Función para reemplazar valores en las columnas"
   ]
  },
  {
   "cell_type": "code",
   "execution_count": 6,
   "id": "1f18a37b",
   "metadata": {},
   "outputs": [],
   "source": [
    "def reemplazar_valores(df, mapeos):\n",
    "    for mapeo in mapeos:\n",
    "        columna = mapeo['columna']\n",
    "        valores = mapeo['valores']\n",
    "        df[columna] = df[columna].replace(valores)"
   ]
  },
  {
   "cell_type": "markdown",
   "id": "134faedc",
   "metadata": {},
   "source": [
    "#### Diccionario para palabras que no traduce la libreria"
   ]
  },
  {
   "cell_type": "code",
   "execution_count": 7,
   "id": "1d44cba5",
   "metadata": {},
   "outputs": [],
   "source": [
    "mapeos = [\n",
    "    {'columna': 'Género', 'valores': {'Female': 'Femenino', 'Male': 'Masculino'}},\n",
    "    {'columna': 'satisfacción', 'valores': {'neutral or dissatisfied': 'neutral o insatisfecho', 'satisfied': 'satisfecho'}},\n",
    "    {'columna': 'Tipo de viaje', 'valores': {'Personal Travel': 'Viaje Personal', 'Business travel': 'Viaje de trabajo'}},\n",
    "    {'columna': 'Tipo de cliente', 'valores': {'Loyal Customer': 'Cliente habitual', 'disloyal Customer': 'Cliente ocasional'}}\n",
    "]"
   ]
  },
  {
   "cell_type": "code",
   "execution_count": 8,
   "id": "cf75031c",
   "metadata": {},
   "outputs": [],
   "source": [
    "reemplazar_valores(df, mapeos)\n",
    "df.columns = [header.title() for header in df.columns]"
   ]
  },
  {
   "cell_type": "code",
   "execution_count": 9,
   "id": "1579c38a",
   "metadata": {
    "scrolled": false
   },
   "outputs": [
    {
     "name": "stdout",
     "output_type": "stream",
     "text": [
      "43.03217649459839\n"
     ]
    }
   ],
   "source": [
    "pd.set_option(\"display.max_columns\",None)\n",
    "df"
   ]
  },
  {
   "cell_type": "code",
   "execution_count": 12,
   "id": "fb906ca6",
   "metadata": {},
   "outputs": [],
   "source": [
    "df.to_csv('passangerEvaluationETL.csv', index=False)"
   ]
  },
  {
   "cell_type": "code",
   "execution_count": null,
   "id": "9a11c508",
   "metadata": {},
   "outputs": [],
   "source": []
  }
 ],
 "metadata": {
  "kernelspec": {
   "display_name": "Python 3 (ipykernel)",
   "language": "python",
   "name": "python3"
  },
  "language_info": {
   "codemirror_mode": {
    "name": "ipython",
    "version": 3
   },
   "file_extension": ".py",
   "mimetype": "text/x-python",
   "name": "python",
   "nbconvert_exporter": "python",
   "pygments_lexer": "ipython3",
   "version": "3.9.13"
  }
 },
 "nbformat": 4,
 "nbformat_minor": 5
}
